import tensorflow as tf
from tensorflow import keras
from tensorflow.keras import layers
import matplotlib.pyplot as plt

(train_data, train_labels), (test_data, test_labels) = keras.datasets.imdb.load_data(num_words=20000)

word_index = keras.datasets.imdb.get_word_index()
index_word = {v+3: k for k, v in word_index.items()}
index_word[0] = "<PAD>"
index_word[1] = "<START>"
index_word[2] = "<UNK>"
index_word[3] = "<UNUSED>"

def decode_review(text):
    return " ".join([index_word.get(i, "?") for i in text])

print(decode_review(train_data[0]))
print("Label (0=negative, 1=positive):", train_labels[0])

train_data = keras.preprocessing.sequence.pad_sequences(train_data, value=0, padding='post', maxlen=512)
test_data = keras.preprocessing.sequence.pad_sequences(test_data, value=0, padding='post', maxlen=512)

model = keras.Sequential([
    layers.Embedding(20000, 16),
    layers.GlobalAveragePooling1D(),
    layers.Dense(16, activation='relu'),
    layers.Dense(1, activation='sigmoid')
])

model.compile(optimizer='adam',
              loss='binary_crossentropy',
              metrics=['accuracy'])

history = model.fit(train_data,
                    train_labels,
                    epochs=10,
                    batch_size=256,
                    validation_split=0.2,
                    verbose=2)

results = model.evaluate(test_data, test_labels, verbose=2)
print("Test Loss, Test Accuracy:", results)

import numpy as np
def review_predict(text):
    words = text.lower().split()
    encoded = [1]  # <START>
    for word in words:
        encoded.append(word_index.get(word, 2))  # 2 is <UNK>
    encoded = keras.preprocessing.sequence.pad_sequences([encoded], value=0, padding='post', maxlen=512)
    prediction = model.predict(encoded)
    print("🔮 Sentiment Score:", prediction[0][0])
    print("🟢 Positive" if prediction[0][0] > 0.5 else "🔴 Negative")

# Example
review_predict("The movie was HORRIBLE. I hated it")